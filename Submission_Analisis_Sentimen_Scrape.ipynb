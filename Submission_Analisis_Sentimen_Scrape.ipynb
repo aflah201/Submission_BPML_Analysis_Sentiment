{
  "cells": [
    {
      "cell_type": "markdown",
      "metadata": {
        "id": "TVGsNDwVFHov"
      },
      "source": [
        "Nama : Moh. Aflah Azzaky\n",
        "\n",
        "Domisili : Sidoarjo\n",
        "\n",
        "Email : aflahazzaki123@gmail.com"
      ]
    },
    {
      "cell_type": "markdown",
      "metadata": {
        "id": "A9BFql5oFmJ3"
      },
      "source": [
        "# **Install Library**"
      ]
    },
    {
      "cell_type": "code",
      "execution_count": null,
      "metadata": {
        "colab": {
          "base_uri": "https://localhost:8080/"
        },
        "id": "u_spCgRQE8Qj",
        "outputId": "9cb3690c-4745-4208-d977-63c2458cdf9c"
      },
      "outputs": [
        {
          "output_type": "stream",
          "name": "stdout",
          "text": [
            "Requirement already satisfied: google-play-scraper in /usr/local/lib/python3.10/dist-packages (1.2.7)\n",
            "Requirement already satisfied: session_info in /usr/local/lib/python3.10/dist-packages (1.0.0)\n",
            "Requirement already satisfied: stdlib-list in /usr/local/lib/python3.10/dist-packages (from session_info) (0.10.0)\n"
          ]
        }
      ],
      "source": [
        "!pip install google-play-scraper\n",
        "!pip install session_info"
      ]
    },
    {
      "cell_type": "markdown",
      "metadata": {
        "id": "Fi97BdgfF2lg"
      },
      "source": [
        "# **Import Library**"
      ]
    },
    {
      "cell_type": "code",
      "execution_count": null,
      "metadata": {
        "colab": {
          "base_uri": "https://localhost:8080/",
          "height": 34
        },
        "id": "s9XDU_VGF7AU",
        "outputId": "7a16335c-c95c-467c-d156-084c9ae6a5d1"
      },
      "outputs": [
        {
          "output_type": "execute_result",
          "data": {
            "text/plain": [
              "<IPython.core.display.HTML object>"
            ],
            "text/html": [
              "<details>\n",
              "<summary>Click to view session information</summary>\n",
              "<pre>\n",
              "-----\n",
              "google_play_scraper NA\n",
              "session_info        1.0.0\n",
              "-----\n",
              "</pre>\n",
              "<details>\n",
              "<summary>Click to view modules imported as dependencies</summary>\n",
              "<pre>\n",
              "PIL                 9.4.0\n",
              "backcall            0.2.0\n",
              "certifi             2024.06.02\n",
              "cffi                1.16.0\n",
              "cycler              0.12.1\n",
              "cython_runtime      NA\n",
              "dateutil            2.8.2\n",
              "debugpy             1.6.6\n",
              "decorator           4.4.2\n",
              "defusedxml          0.7.1\n",
              "entrypoints         0.4\n",
              "google              NA\n",
              "httplib2            0.22.0\n",
              "ipykernel           5.5.6\n",
              "ipyparallel         8.8.0\n",
              "ipython_genutils    0.2.0\n",
              "kiwisolver          1.4.5\n",
              "matplotlib          3.7.1\n",
              "matplotlib_inline   0.1.7\n",
              "mpl_toolkits        NA\n",
              "numpy               1.25.2\n",
              "packaging           24.1\n",
              "pexpect             4.9.0\n",
              "pickleshare         0.7.5\n",
              "pkg_resources       NA\n",
              "platformdirs        4.2.2\n",
              "portpicker          NA\n",
              "prompt_toolkit      3.0.47\n",
              "psutil              5.9.5\n",
              "ptyprocess          0.7.0\n",
              "pydev_ipython       NA\n",
              "pydevconsole        NA\n",
              "pydevd              2.9.5\n",
              "pydevd_file_utils   NA\n",
              "pydevd_plugins      NA\n",
              "pydevd_tracing      NA\n",
              "pygments            2.16.1\n",
              "pyparsing           3.1.2\n",
              "setuptools          67.7.2\n",
              "sitecustomize       NA\n",
              "six                 1.16.0\n",
              "socks               1.7.1\n",
              "sphinxcontrib       NA\n",
              "storemagic          NA\n",
              "tornado             6.3.3\n",
              "traitlets           5.7.1\n",
              "wcwidth             0.2.13\n",
              "zmq                 24.0.1\n",
              "</pre>\n",
              "</details> <!-- seems like this ends pre, so might as well be explicit -->\n",
              "<pre>\n",
              "-----\n",
              "IPython             7.34.0\n",
              "jupyter_client      6.1.12\n",
              "jupyter_core        5.7.2\n",
              "notebook            6.5.5\n",
              "-----\n",
              "Python 3.10.12 (main, Nov 20 2023, 15:14:05) [GCC 11.4.0]\n",
              "Linux-6.1.85+-x86_64-with-glibc2.35\n",
              "-----\n",
              "Session information updated at 2024-07-11 07:27\n",
              "</pre>\n",
              "</details>"
            ]
          },
          "metadata": {},
          "execution_count": 8
        }
      ],
      "source": [
        "from google_play_scraper import Sort, reviews_all, app, reviews\n",
        "import csv\n",
        "import session_info\n",
        "session_info.show()"
      ]
    },
    {
      "cell_type": "markdown",
      "metadata": {
        "id": "2ITljIztIyNz"
      },
      "source": [
        "# **Scraping Dataset**"
      ]
    },
    {
      "cell_type": "code",
      "execution_count": null,
      "metadata": {
        "id": "qxVem0vAIvs_"
      },
      "outputs": [],
      "source": [
        "scrapreview = reviews_all(\n",
        "    'com.shopee.id',\n",
        "    lang = 'id',\n",
        "    country = 'id',\n",
        "    sort = Sort.MOST_RELEVANT,\n",
        "    count = 1000,\n",
        ")"
      ]
    },
    {
      "cell_type": "markdown",
      "metadata": {
        "id": "f3UfP1k6JGjE"
      },
      "source": [
        "# **Save as CSV**"
      ]
    },
    {
      "cell_type": "code",
      "execution_count": null,
      "metadata": {
        "id": "nCDnsVVBJLbu"
      },
      "outputs": [],
      "source": [
        "with open('app_review_shopee.csv', mode='w', newline='', encoding='utf-8') as file:\n",
        "  writer = csv.writer(file)\n",
        "  writer.writerow(['Review'])\n",
        "  for review in scrapreview:\n",
        "    writer.writerow([review['content']])"
      ]
    }
  ],
  "metadata": {
    "colab": {
      "provenance": [],
      "collapsed_sections": [
        "A9BFql5oFmJ3",
        "Fi97BdgfF2lg",
        "2ITljIztIyNz",
        "f3UfP1k6JGjE"
      ]
    },
    "kernelspec": {
      "display_name": "Python 3",
      "name": "python3"
    },
    "language_info": {
      "name": "python"
    }
  },
  "nbformat": 4,
  "nbformat_minor": 0
}